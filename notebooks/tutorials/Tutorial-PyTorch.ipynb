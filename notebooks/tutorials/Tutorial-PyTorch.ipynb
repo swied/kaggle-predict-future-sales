{
 "cells": [
  {
   "cell_type": "code",
   "execution_count": 37,
   "metadata": {},
   "outputs": [],
   "source": [
    "import torch\n",
    "import h5py"
   ]
  },
  {
   "cell_type": "code",
   "execution_count": 2,
   "metadata": {},
   "outputs": [],
   "source": [
    "a = torch.ones(3)"
   ]
  },
  {
   "cell_type": "code",
   "execution_count": 3,
   "metadata": {},
   "outputs": [
    {
     "data": {
      "text/plain": [
       "tensor([1., 1., 1.])"
      ]
     },
     "execution_count": 3,
     "metadata": {},
     "output_type": "execute_result"
    }
   ],
   "source": [
    "a"
   ]
  },
  {
   "cell_type": "code",
   "execution_count": 4,
   "metadata": {},
   "outputs": [
    {
     "data": {
      "text/plain": [
       "tensor(1.)"
      ]
     },
     "execution_count": 4,
     "metadata": {},
     "output_type": "execute_result"
    }
   ],
   "source": [
    "a[1]"
   ]
  },
  {
   "cell_type": "code",
   "execution_count": 5,
   "metadata": {},
   "outputs": [
    {
     "data": {
      "text/plain": [
       "1.0"
      ]
     },
     "execution_count": 5,
     "metadata": {},
     "output_type": "execute_result"
    }
   ],
   "source": [
    "float(a[1])"
   ]
  },
  {
   "cell_type": "code",
   "execution_count": 6,
   "metadata": {},
   "outputs": [],
   "source": [
    "a[2]=2.0"
   ]
  },
  {
   "cell_type": "code",
   "execution_count": 7,
   "metadata": {},
   "outputs": [
    {
     "data": {
      "text/plain": [
       "tensor([1., 1., 2.])"
      ]
     },
     "execution_count": 7,
     "metadata": {},
     "output_type": "execute_result"
    }
   ],
   "source": [
    "a"
   ]
  },
  {
   "cell_type": "code",
   "execution_count": 16,
   "metadata": {},
   "outputs": [],
   "source": [
    "points = torch.tensor([4.0, 1.0, 5.0, 3.0, 2.0, 1.0])"
   ]
  },
  {
   "cell_type": "code",
   "execution_count": 17,
   "metadata": {},
   "outputs": [
    {
     "data": {
      "text/plain": [
       "tensor([4., 1., 5., 3., 2., 1.])"
      ]
     },
     "execution_count": 17,
     "metadata": {},
     "output_type": "execute_result"
    }
   ],
   "source": [
    "points"
   ]
  },
  {
   "cell_type": "code",
   "execution_count": 18,
   "metadata": {},
   "outputs": [
    {
     "data": {
      "text/plain": [
       "torch.Size([6])"
      ]
     },
     "execution_count": 18,
     "metadata": {},
     "output_type": "execute_result"
    }
   ],
   "source": [
    "points.shape"
   ]
  },
  {
   "cell_type": "code",
   "execution_count": 19,
   "metadata": {},
   "outputs": [
    {
     "data": {
      "text/plain": [
       "tensor([1., 5.])"
      ]
     },
     "execution_count": 19,
     "metadata": {},
     "output_type": "execute_result"
    }
   ],
   "source": [
    "points[1:3]"
   ]
  },
  {
   "cell_type": "code",
   "execution_count": 20,
   "metadata": {},
   "outputs": [
    {
     "data": {
      "text/plain": [
       "tensor([[4., 1.],\n",
       "        [5., 3.],\n",
       "        [2., 1.]])"
      ]
     },
     "execution_count": 20,
     "metadata": {},
     "output_type": "execute_result"
    }
   ],
   "source": [
    "points = torch.tensor([[4.0, 1.0], [5.0, 3.0], [2.0, 1.0]])\n",
    "points"
   ]
  },
  {
   "cell_type": "code",
   "execution_count": 21,
   "metadata": {},
   "outputs": [
    {
     "data": {
      "text/plain": [
       "torch.Size([3, 2])"
      ]
     },
     "execution_count": 21,
     "metadata": {},
     "output_type": "execute_result"
    }
   ],
   "source": [
    "points.shape"
   ]
  },
  {
   "cell_type": "code",
   "execution_count": 23,
   "metadata": {},
   "outputs": [
    {
     "data": {
      "text/plain": [
       "tensor([[4., 1.],\n",
       "        [5., 3.]])"
      ]
     },
     "execution_count": 23,
     "metadata": {},
     "output_type": "execute_result"
    }
   ],
   "source": [
    "points[0:2]"
   ]
  },
  {
   "cell_type": "code",
   "execution_count": 25,
   "metadata": {},
   "outputs": [
    {
     "data": {
      "text/plain": [
       "tensor([[[-1.6260, -0.8112, -1.4713, -0.4392,  1.3944],\n",
       "         [ 0.0869,  0.3973, -0.7554, -0.1487, -0.4499],\n",
       "         [ 0.1363, -0.5173, -0.0983, -1.2112, -0.0403],\n",
       "         [ 0.0076,  0.3500,  0.9270, -0.4470, -1.4225],\n",
       "         [ 0.9546,  0.2988,  0.9552, -0.2447, -1.4100]],\n",
       "\n",
       "        [[ 0.2835, -1.0017,  1.0769, -0.3960, -1.5821],\n",
       "         [ 0.3936, -0.8331,  0.4275,  0.2110, -1.2672],\n",
       "         [-0.4397,  0.4887, -0.0961, -0.6080, -0.3668],\n",
       "         [-1.4572,  0.1900,  0.7677, -0.4452,  0.2552],\n",
       "         [ 2.3268,  0.0421, -0.1170, -0.4183, -0.2397]],\n",
       "\n",
       "        [[-0.4649, -0.9379,  0.4724,  0.4037,  0.3833],\n",
       "         [-0.3930,  1.1185, -0.1449, -0.1736,  1.3781],\n",
       "         [ 0.6823, -2.2408,  2.0652,  0.6043,  2.1049],\n",
       "         [-1.9045, -0.1765,  0.6765,  1.3261, -0.5666],\n",
       "         [ 0.1334,  0.6474,  2.9471,  0.9148, -0.0198]]])"
      ]
     },
     "execution_count": 25,
     "metadata": {},
     "output_type": "execute_result"
    }
   ],
   "source": [
    "img_t = torch.randn(3, 5, 5) # shape [channels, rows, columns]\n",
    "img_t"
   ]
  },
  {
   "cell_type": "code",
   "execution_count": 26,
   "metadata": {},
   "outputs": [
    {
     "data": {
      "text/plain": [
       "tensor([0.2126, 0.7152, 0.0722])"
      ]
     },
     "execution_count": 26,
     "metadata": {},
     "output_type": "execute_result"
    }
   ],
   "source": [
    "weights = torch.tensor([0.2126, 0.7152, 0.0722])\n",
    "weights"
   ]
  },
  {
   "cell_type": "code",
   "execution_count": 27,
   "metadata": {},
   "outputs": [
    {
     "data": {
      "text/plain": [
       "tensor([[[[ 1.4927,  0.6267, -0.8048,  0.2668,  0.6162],\n",
       "          [ 0.0511, -0.7939, -0.5364, -0.0377, -2.1114],\n",
       "          [ 0.8283, -0.7240,  0.1345,  0.3923, -1.4078],\n",
       "          [-0.5554, -0.5777,  0.6608, -0.6829, -1.2945],\n",
       "          [ 1.5099,  1.3794, -0.0635,  2.1321, -0.0440]],\n",
       "\n",
       "         [[ 1.4624, -0.4338,  0.6849,  1.1412, -0.6639],\n",
       "          [-0.5926, -0.8329,  0.2038,  1.5060,  1.2354],\n",
       "          [ 0.2541, -0.8218, -1.2446,  0.9568,  1.3206],\n",
       "          [ 1.0611, -0.4364, -0.8134,  0.0626,  1.7453],\n",
       "          [ 0.4007,  0.4026, -0.2598,  0.5635, -1.3857]],\n",
       "\n",
       "         [[-1.1936, -1.3818, -0.8363, -2.7571,  0.1833],\n",
       "          [ 0.8449,  0.8760,  0.4808,  0.1294,  0.0050],\n",
       "          [-1.4462,  0.3434,  0.3079,  1.0333, -0.7990],\n",
       "          [ 0.1569, -0.7500,  0.0380,  1.2541,  0.5152],\n",
       "          [ 1.1163, -0.2241, -0.6303,  1.0146,  0.2070]]],\n",
       "\n",
       "\n",
       "        [[[ 0.5019,  1.4974, -1.7626, -1.2754, -0.1974],\n",
       "          [-1.8604,  0.7508, -0.3787, -0.7760, -0.5171],\n",
       "          [-0.5149,  0.7063,  0.4774, -2.2074,  0.1723],\n",
       "          [ 0.2246, -0.8396, -0.6941, -0.1475,  1.5009],\n",
       "          [ 0.2700,  0.5855,  1.8597,  0.0966, -1.0910]],\n",
       "\n",
       "         [[-0.1374, -0.2338, -0.3285,  0.6545,  0.8014],\n",
       "          [-0.9598,  0.6807,  2.7529,  1.3892,  0.8457],\n",
       "          [ 0.3112,  0.4317, -0.8113,  0.3444,  0.4856],\n",
       "          [-2.1354, -1.1550, -0.4424,  0.1997, -0.6067],\n",
       "          [-3.0682, -0.0416, -1.7104,  0.2168,  0.6762]],\n",
       "\n",
       "         [[ 0.6075, -0.1712,  0.6146, -0.8716,  0.1402],\n",
       "          [-0.9635, -0.5937,  0.3250,  0.2059,  0.0531],\n",
       "          [-1.8022,  0.2553, -0.3436, -0.4150, -1.0927],\n",
       "          [-0.5294,  0.8620, -0.3022,  1.5120, -0.3998],\n",
       "          [-0.0514, -1.0252,  0.7880, -0.1864,  0.2235]]]])"
      ]
     },
     "execution_count": 27,
     "metadata": {},
     "output_type": "execute_result"
    }
   ],
   "source": [
    "batch_t = torch.randn(2, 3, 5, 5) # shape [batch, channels, rows, columns]\n",
    "batch_t"
   ]
  },
  {
   "cell_type": "code",
   "execution_count": 28,
   "metadata": {},
   "outputs": [
    {
     "name": "stdout",
     "output_type": "stream",
     "text": [
      "img named: torch.Size([3, 5, 5]) ('channels', 'rows', 'columns')\n",
      "batch named: torch.Size([2, 3, 5, 5]) (None, 'channels', 'rows', 'columns')\n"
     ]
    },
    {
     "name": "stderr",
     "output_type": "stream",
     "text": [
      "/home/scott/anaconda3/envs/fastai/lib/python3.6/site-packages/torch/tensor.py:605: UserWarning: Named tensors and all their associated APIs are an experimental feature and subject to change. Please do not use them for anything important until they are released as stable. (Triggered internally at  /opt/conda/conda-bld/pytorch_1595629427286/work/c10/core/TensorImpl.h:840.)\n",
      "  return super(Tensor, self).refine_names(names)\n"
     ]
    }
   ],
   "source": [
    "img_named = img_t.refine_names(..., 'channels', 'rows', 'columns')\n",
    "batch_named = batch_t.refine_names(..., 'channels', 'rows', 'columns')\n",
    "print(\"img named:\", img_named.shape, img_named.names)\n",
    "print(\"batch named:\", batch_named.shape, batch_named.names)"
   ]
  },
  {
   "cell_type": "code",
   "execution_count": 31,
   "metadata": {},
   "outputs": [
    {
     "data": {
      "text/plain": [
       "tensor([[[-1.6260, -0.8112, -1.4713, -0.4392,  1.3944],\n",
       "         [ 0.0869,  0.3973, -0.7554, -0.1487, -0.4499],\n",
       "         [ 0.1363, -0.5173, -0.0983, -1.2112, -0.0403],\n",
       "         [ 0.0076,  0.3500,  0.9270, -0.4470, -1.4225],\n",
       "         [ 0.9546,  0.2988,  0.9552, -0.2447, -1.4100]],\n",
       "\n",
       "        [[ 0.2835, -1.0017,  1.0769, -0.3960, -1.5821],\n",
       "         [ 0.3936, -0.8331,  0.4275,  0.2110, -1.2672],\n",
       "         [-0.4397,  0.4887, -0.0961, -0.6080, -0.3668],\n",
       "         [-1.4572,  0.1900,  0.7677, -0.4452,  0.2552],\n",
       "         [ 2.3268,  0.0421, -0.1170, -0.4183, -0.2397]],\n",
       "\n",
       "        [[-0.4649, -0.9379,  0.4724,  0.4037,  0.3833],\n",
       "         [-0.3930,  1.1185, -0.1449, -0.1736,  1.3781],\n",
       "         [ 0.6823, -2.2408,  2.0652,  0.6043,  2.1049],\n",
       "         [-1.9045, -0.1765,  0.6765,  1.3261, -0.5666],\n",
       "         [ 0.1334,  0.6474,  2.9471,  0.9148, -0.0198]]],\n",
       "       names=('channels', 'rows', 'columns'))"
      ]
     },
     "execution_count": 31,
     "metadata": {},
     "output_type": "execute_result"
    }
   ],
   "source": [
    "img_named"
   ]
  },
  {
   "cell_type": "code",
   "execution_count": 32,
   "metadata": {},
   "outputs": [],
   "source": [
    "points = torch.tensor([[4.0, 1.0], [5.0, 3.0], [2.0, 1.0]])"
   ]
  },
  {
   "cell_type": "code",
   "execution_count": 33,
   "metadata": {},
   "outputs": [
    {
     "data": {
      "text/plain": [
       "(1, 2)"
      ]
     },
     "execution_count": 33,
     "metadata": {},
     "output_type": "execute_result"
    }
   ],
   "source": [
    "(\n",
    "    points\n",
    "    .t()\n",
    "    .stride()\n",
    ")"
   ]
  },
  {
   "cell_type": "code",
   "execution_count": 34,
   "metadata": {},
   "outputs": [],
   "source": [
    "points_gpu = torch.tensor([[4.0, 1.0], [5.0, 3.0], [2.0, 1.0]], device='cuda')"
   ]
  },
  {
   "cell_type": "code",
   "execution_count": 35,
   "metadata": {},
   "outputs": [
    {
     "data": {
      "text/plain": [
       "tensor([[4., 1.],\n",
       "        [5., 3.],\n",
       "        [2., 1.]], device='cuda:0')"
      ]
     },
     "execution_count": 35,
     "metadata": {},
     "output_type": "execute_result"
    }
   ],
   "source": [
    "points_gpu"
   ]
  },
  {
   "cell_type": "code",
   "execution_count": null,
   "metadata": {},
   "outputs": [],
   "source": []
  }
 ],
 "metadata": {
  "kernelspec": {
   "display_name": "Python 3",
   "language": "python",
   "name": "python3"
  },
  "language_info": {
   "codemirror_mode": {
    "name": "ipython",
    "version": 3
   },
   "file_extension": ".py",
   "mimetype": "text/x-python",
   "name": "python",
   "nbconvert_exporter": "python",
   "pygments_lexer": "ipython3",
   "version": "3.6.10"
  }
 },
 "nbformat": 4,
 "nbformat_minor": 4
}
